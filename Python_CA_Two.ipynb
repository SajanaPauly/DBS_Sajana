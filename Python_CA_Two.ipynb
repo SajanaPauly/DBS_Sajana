{
  "nbformat": 4,
  "nbformat_minor": 0,
  "metadata": {
    "colab": {
      "provenance": [],
      "authorship_tag": "ABX9TyPZ/ddkTkSI04sKBeol724z",
      "include_colab_link": true
    },
    "kernelspec": {
      "name": "python3",
      "display_name": "Python 3"
    },
    "language_info": {
      "name": "python"
    }
  },
  "cells": [
    {
      "cell_type": "markdown",
      "metadata": {
        "id": "view-in-github",
        "colab_type": "text"
      },
      "source": [
        "<a href=\"https://colab.research.google.com/github/SajanaPauly/DBS_Sajana/blob/main/Python_CA_Two.ipynb\" target=\"_parent\"><img src=\"https://colab.research.google.com/assets/colab-badge.svg\" alt=\"Open In Colab\"/></a>"
      ]
    },
    {
      "cell_type": "code",
      "execution_count": null,
      "metadata": {
        "id": "5vTG8Io0uwiA"
      },
      "outputs": [],
      "source": [
        "import requests\n",
        "import json\n",
        "import pandas as pd\n",
        "from bs4 import BeautifulSoup\n",
        "from csv import writer"
      ]
    },
    {
      "cell_type": "code",
      "source": [
        "url= \"https://www.pararius.com/apartments/amsterdam/page-2\"\n",
        "page = requests.get(url)\n",
        "page"
      ],
      "metadata": {
        "colab": {
          "base_uri": "https://localhost:8080/"
        },
        "id": "lfATQvzFvf-2",
        "outputId": "b0203dfa-f568-436d-d25e-01444d738a85"
      },
      "execution_count": null,
      "outputs": [
        {
          "output_type": "execute_result",
          "data": {
            "text/plain": [
              "<Response [200]>"
            ]
          },
          "metadata": {},
          "execution_count": 24
        }
      ]
    },
    {
      "cell_type": "code",
      "source": [
        "soup = BeautifulSoup(page.content, 'html.parser')\n",
        "lists = soup.find_all('section', class_=\"listing-search-item\")\n",
        "\n",
        "with open('housing.csv', 'w', encoding='utf8', newline='') as f:\n",
        "    thewriter = writer(f)\n",
        "    header = ['Title', 'Location', 'Price', 'Area']\n",
        "    thewriter.writerow(header)\n",
        "\n",
        "    for list in lists:\n",
        "        title = list.find('a', class_=\"listing-search-item__link--title\").text.replace('\\n', '')\n",
        "        location = list.find('div', class_=\"listing-search-item__location\").text.replace('\\n', '')\n",
        "        price = list.find('span', class_=\"listing-search-item__price\").text.replace('\\n', '')\n",
        "        area = list.find('span', class_=\"illustrated-features__description\").text.replace('\\n', '')\n",
        "        \n",
        "        info = [title, location, price, area]\n",
        "        thewriter.writerow(info)"
      ],
      "metadata": {
        "id": "lOtUVWs-vrsm"
      },
      "execution_count": null,
      "outputs": []
    },
    {
      "cell_type": "code",
      "source": [
        "soup = BeautifulSoup(page.content, 'html.parser')\n",
        "lists = soup.find_all('section', class_=\"listing-search-item\")\n",
        "\n",
        "for list in lists:\n",
        "  title = list.find('a', class_=\"listing-search-item__link--title\").text.replace('\\n', '')\n",
        "  location = list.find('div', class_=\"listing-search-item__location\").text.replace('\\n', '')\n",
        "  price = list.find('span', class_=\"listing-search-item__price\").text.replace('\\n', '')\n",
        "  area = list.find('span', class_=\"illustrated-features__description\").text.replace('\\n', '')\n",
        "        \n",
        "  info = [title, location, price, area]\n",
        "  print(info)\n"
      ],
      "metadata": {
        "id": "C2NGCTDP24yb"
      },
      "execution_count": null,
      "outputs": []
    },
    {
      "cell_type": "code",
      "source": [
        "soup = BeautifulSoup(page.content, 'html.parser')\n",
        "title=soup.find('section',class_='listing-search-item listing-search-item--list listing-search-item--featured')\n",
        "print(title)"
      ],
      "metadata": {
        "colab": {
          "base_uri": "https://localhost:8080/"
        },
        "id": "pbxq7SnH4YBP",
        "outputId": "e6ea8518-7c13-4adc-afc2-9550771421da"
      },
      "execution_count": null,
      "outputs": [
        {
          "output_type": "stream",
          "name": "stdout",
          "text": [
            "None\n"
          ]
        }
      ]
    },
    {
      "cell_type": "code",
      "source": [
        "url=\"https://www.salary.com/research/salary/listing/data-analyst-salary/san-francisco-ca\"\n",
        "\n",
        "response=requests.get(url)\n",
        "print(response)"
      ],
      "metadata": {
        "colab": {
          "base_uri": "https://localhost:8080/"
        },
        "id": "7659XnNh5mK2",
        "outputId": "e5af9c5d-3c5c-4ffb-deb1-a5215be077b2"
      },
      "execution_count": null,
      "outputs": [
        {
          "output_type": "stream",
          "name": "stdout",
          "text": [
            "<Response [200]>\n"
          ]
        }
      ]
    },
    {
      "cell_type": "code",
      "source": [
        "soup=BeautifulSoup(response.content,'html.parser')\n",
        "test=soup.find('p',class_='sa-seohed-desc sal-seohed-desc').text\n",
        "print(test)"
      ],
      "metadata": {
        "colab": {
          "base_uri": "https://localhost:8080/"
        },
        "id": "Oa3FsxCO5xi7",
        "outputId": "1e7419fc-d24d-428c-aeed-80053966431c"
      },
      "execution_count": null,
      "outputs": [
        {
          "output_type": "stream",
          "name": "stdout",
          "text": [
            "\n",
            "How much does a Data Analyst make in San Francisco, CA? The average Data Analyst salary in San Francisco, CA is $102,455 as of , but the salary range typically falls between $91,528 and $114,784. Salary ranges can vary widely depending on many important factors, including education, certifications, additional skills, the number of years you have spent in your profession. With more online, real-time compensation data than any other website, Salary.com helps you determine your exact pay target. \r\n",
            "    \n"
          ]
        }
      ]
    }
  ]
}